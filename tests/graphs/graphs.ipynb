{
 "metadata": {
  "language_info": {
   "codemirror_mode": {
    "name": "ipython",
    "version": 3
   },
   "file_extension": ".py",
   "mimetype": "text/x-python",
   "name": "python",
   "nbconvert_exporter": "python",
   "pygments_lexer": "ipython3",
   "version": "3.9.3-final"
  },
  "orig_nbformat": 2,
  "kernelspec": {
   "name": "python393jvsc74a57bd0767d51c1340bd893661ea55ea3124f6de3c7a262a8b4abca0554b478b1e2ff90",
   "display_name": "Python 3.9.3 64-bit"
  }
 },
 "nbformat": 4,
 "nbformat_minor": 2,
 "cells": [
  {
   "cell_type": "code",
   "execution_count": null,
   "metadata": {},
   "outputs": [],
   "source": [
    "import pandas as pd\n",
    "import plotly.graph_objects as go\n",
    "from plotly.subplots import make_subplots\n",
    "import plotly.express as px\n",
    "from plotly import colors as pcol\n",
    "import plotly"
   ]
  },
  {
   "cell_type": "code",
   "execution_count": null,
   "metadata": {},
   "outputs": [],
   "source": [
    "df = pd.read_csv('../results/log_bleak.csv')\n",
    "df"
   ]
  },
  {
   "cell_type": "code",
   "execution_count": null,
   "metadata": {},
   "outputs": [],
   "source": [
    "ble = df[df.dir.str.startswith('BLE')].reset_index()\n",
    "uart = df[df.dir.str.startswith('UART')].reset_index()"
   ]
  },
  {
   "cell_type": "code",
   "execution_count": null,
   "metadata": {},
   "outputs": [],
   "source": [
    "def base_fig(title:str):\n",
    "    colors = pcol.sequential.YlGnBu[::2] if title.startswith('BLE') else pcol.sequential.OrRd[::2]\n",
    "    _fig = go.Figure(layout=dict(\n",
    "        title=title.replace('>>', '➟'), template='plotly_dark', \n",
    "        # width=900,\n",
    "        margin=dict(l=100, r=100),\n",
    "        # legend={'x': 1, 'title': 'delay'},\n",
    "        colorway=colors\n",
    "    ))\n",
    "    _fig.add_annotation(text='[CC BY] blog.ja-ke.tech', showarrow=False, font={'color': 'gray'},\n",
    "        xref='paper', yref='paper', x=1.1, y=-.25)\n",
    "    return _fig\n"
   ]
  },
  {
   "cell_type": "code",
   "execution_count": null,
   "metadata": {},
   "outputs": [],
   "source": [
    "def create_bw(data: pd.DataFrame, title: str, packet: int):\n",
    "    fig = base_fig(f'{title}: Throughput')\n",
    "    for s in data.loss_percent:\n",
    "        fig.add_scatter(x=data.index, y=data.rx_baud[s], \n",
    "            name=f'{int(10/1000/s*packet) if s > 0 else \"∞\"} kb/s')\n",
    "    fig.update_xaxes(type='category', title='module baud rate')\n",
    "    fig.update_yaxes(ticksuffix='b/s', title='bandwidth', rangemode='tozero')\n",
    "    fig.update_layout(legend={'title': 'max. (from delay)'})\n",
    "    return fig\n",
    "\n",
    "def create_loss(data: pd.DataFrame, title: str):\n",
    "    fig = base_fig(f'{title}: Data Transmission')\n",
    "    for s in data.loss_percent:\n",
    "        fig.add_bar(x=data.index, y=data.loss_percent[s], \n",
    "             name=f'{s/0.001:.0f} ms')\n",
    "    fig.update_xaxes(type='category', title='module baud rate')\n",
    "    # fig.update_yaxes(ticksuffix='%', title='packet loss', range=[0,100])\n",
    "    fig.update_yaxes(ticksuffix='%', title='data received', rangemode='tozero')\n",
    "    fig.update_layout(legend={'title': 'per byte delay'})\n",
    "    return fig"
   ]
  },
  {
   "cell_type": "code",
   "execution_count": null,
   "metadata": {},
   "outputs": [],
   "source": [
    "def gen_plots(inp: pd.DataFrame):\n",
    "    title: str = inp.dir[0]\n",
    "    p = inp.pivot(index='rated_baud', columns='delay', values=['loss_percent', 'rx_baud'])\n",
    "    p.loss_percent = 100-p.loss_percent\n",
    "    packet = inp.packet_size[0]\n",
    "\n",
    "\n",
    "    loss = create_loss(p, title)\n",
    "    bw = create_bw(p, title, packet)\n",
    "\n",
    "    write_args = dict(include_plotlyjs='/static/js/plotly.min.js', full_html=False)\n",
    "    write_name = title.replace(' >> ', '-').lower()\n",
    "    loss.write_html(f'{write_name}_loss.html', **write_args)\n",
    "    bw.write_html(f'{write_name}_bw.html', **write_args)\n",
    "\n",
    "    return [loss, bw]\n",
    "\n",
    "figs = gen_plots(ble) + gen_plots(uart)"
   ]
  },
  {
   "cell_type": "code",
   "execution_count": null,
   "metadata": {},
   "outputs": [],
   "source": [
    "for f in figs:\n",
    "    f.show()"
   ]
  },
  {
   "cell_type": "code",
   "execution_count": null,
   "metadata": {},
   "outputs": [],
   "source": [
    "# fig = make_subplots(specs=[[{\"secondary_y\": True}]])\n",
    "# for s in p.loss_percent:\n",
    "#     fig.add_scatter(x=p.index, y=p.rx_baud[s], marker_color=pcol.sequential.Viridis, name=f'{10/s*packet if s > 0 else \"∞\"} b/s max', secondary_y=True)\n",
    "#     fig.add_bar(x=p.index, y=p.loss_percent[s], name=f'{s//0.001} ms delay/byte ')\n",
    "\n",
    "# fig.update_layout(title='BLE ➟ UART: max. bandwidth', template='plotly_dark', \n",
    "#     width=900, legend={'x': 1.1})\n",
    "# fig.update_xaxes(type='category', title='baud rate')\n",
    "# fig.update_yaxes(ticksuffix='%', title='packet loss', secondary_y=False)\n",
    "# fig.update_yaxes(ticksuffix='b/s', title='bandwidth', range=[0, 25e3], secondary_y=True)\n",
    "# fig.add_annotation(text='[CC BY] blog.ja-ke.tech', showarrow=False,\n",
    "#     xref='paper', yref='paper', x=1.28, y=-.25)\n",
    "# fig.show()"
   ]
  },
  {
   "cell_type": "code",
   "execution_count": null,
   "metadata": {},
   "outputs": [],
   "source": []
  }
 ]
}