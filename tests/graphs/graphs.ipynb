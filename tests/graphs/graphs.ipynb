{
 "metadata": {
  "language_info": {
   "codemirror_mode": {
    "name": "ipython",
    "version": 3
   },
   "file_extension": ".py",
   "mimetype": "text/x-python",
   "name": "python",
   "nbconvert_exporter": "python",
   "pygments_lexer": "ipython3",
   "version": "3.9.3-final"
  },
  "orig_nbformat": 2,
  "kernelspec": {
   "name": "python393jvsc74a57bd0767d51c1340bd893661ea55ea3124f6de3c7a262a8b4abca0554b478b1e2ff90",
   "display_name": "Python 3.9.3 64-bit"
  }
 },
 "nbformat": 4,
 "nbformat_minor": 2,
 "cells": [
  {
   "cell_type": "code",
   "execution_count": 2,
   "metadata": {},
   "outputs": [],
   "source": [
    "import pandas as pd\n",
    "import plotly.graph_objects as go\n",
    "from plotly.subplots import make_subplots\n",
    "import plotly.express as px"
   ]
  },
  {
   "cell_type": "code",
   "execution_count": 3,
   "metadata": {},
   "outputs": [
    {
     "output_type": "execute_result",
     "data": {
      "text/plain": [
       "            dir  rated_baud  packet_size  delay  valid  loss_percent  rx_bits  \\\n",
       "0   BLE >> UART        9600           32  0.000  False     58.672726     5331   \n",
       "1   UART >> BLE        9600           32  0.000   True      0.000000     7650   \n",
       "2   BLE >> UART        9600           32  0.016  False     54.780074     5133   \n",
       "3   UART >> BLE        9600           32  0.016   True      0.000000     7666   \n",
       "4   BLE >> UART        9600           32  0.032  False     18.863071     5917   \n",
       "5   UART >> BLE        9600           32  0.032   True      0.000000     7669   \n",
       "6   BLE >> UART        9600           32  0.064  False      0.025722     3996   \n",
       "7   UART >> BLE        9600           32  0.064   True      0.000000     3985   \n",
       "8   BLE >> UART       19200           32  0.000  False     36.697248     9434   \n",
       "9   UART >> BLE       19200           32  0.000  False     18.391494    12373   \n",
       "10  BLE >> UART       19200           32  0.016  False     23.921804     9409   \n",
       "11  UART >> BLE       19200           32  0.016  False     18.897368    12271   \n",
       "12  BLE >> UART       19200           32  0.032  False      0.042871     7968   \n",
       "13  UART >> BLE       19200           32  0.032   True      0.000000     7960   \n",
       "14  BLE >> UART       19200           32  0.064  False      0.051445     3997   \n",
       "15  UART >> BLE       19200           32  0.064   True      0.000000     3983   \n",
       "16  BLE >> UART       57600           32  0.000   True      0.000000    17032   \n",
       "17  UART >> BLE       57600           32  0.000  False     70.410701    13084   \n",
       "18  BLE >> UART       57600           32  0.016  False      0.240075    13623   \n",
       "19  UART >> BLE       57600           32  0.016  False     13.444225    13601   \n",
       "20  BLE >> UART       57600           32  0.032  False      0.205779     7960   \n",
       "21  UART >> BLE       57600           32  0.032   True      0.000000     7957   \n",
       "22  BLE >> UART       57600           32  0.064  False      0.162908     3987   \n",
       "23  UART >> BLE       57600           32  0.064   True      0.000000     3989   \n",
       "24  BLE >> UART      115200           32  0.000  False      0.514447    17059   \n",
       "25  UART >> BLE      115200           32  0.000  False     84.900969    12430   \n",
       "26  BLE >> UART      115200           32  0.016  False      0.274372    13625   \n",
       "27  UART >> BLE      115200           32  0.016  False     31.681386    13546   \n",
       "28  BLE >> UART      115200           32  0.032   True      0.000000     8151   \n",
       "29  UART >> BLE      115200           32  0.032   True      0.000000     7956   \n",
       "30  BLE >> UART      115200           32  0.064  False      0.274372     3983   \n",
       "31  UART >> BLE      115200           32  0.064   True      0.000000     3983   \n",
       "32  BLE >> UART      230400           32  0.000   True      0.000000    16144   \n",
       "33  UART >> BLE      230400           32  0.000  False     92.034639    12067   \n",
       "34  BLE >> UART      230400           32  0.016  False      0.274372    13628   \n",
       "35  UART >> BLE      230400           32  0.016  False     14.267341    13457   \n",
       "36  BLE >> UART      230400           32  0.032  False      0.274372     7955   \n",
       "37  UART >> BLE      230400           32  0.032   True      0.000000     7958   \n",
       "38  BLE >> UART      230400           32  0.064  False      0.274372     3983   \n",
       "39  UART >> BLE      230400           32  0.064   True      0.000000     3982   \n",
       "\n",
       "    rx_baud  \n",
       "0      6664  \n",
       "1      9562  \n",
       "2      6416  \n",
       "3      9583  \n",
       "4      7396  \n",
       "5      9586  \n",
       "6      4995  \n",
       "7      4982  \n",
       "8     11792  \n",
       "9     15466  \n",
       "10    11761  \n",
       "11    15339  \n",
       "12     9960  \n",
       "13     9951  \n",
       "14     4996  \n",
       "15     4979  \n",
       "16    21290  \n",
       "17    16356  \n",
       "18    17029  \n",
       "19    17001  \n",
       "20     9950  \n",
       "21     9947  \n",
       "22     4984  \n",
       "23     4986  \n",
       "24    21324  \n",
       "25    15538  \n",
       "26    17031  \n",
       "27    16933  \n",
       "28    10189  \n",
       "29     9946  \n",
       "30     4979  \n",
       "31     4978  \n",
       "32    20180  \n",
       "33    15084  \n",
       "34    17035  \n",
       "35    16821  \n",
       "36     9944  \n",
       "37     9948  \n",
       "38     4979  \n",
       "39     4978  "
      ],
      "text/html": "<div>\n<style scoped>\n    .dataframe tbody tr th:only-of-type {\n        vertical-align: middle;\n    }\n\n    .dataframe tbody tr th {\n        vertical-align: top;\n    }\n\n    .dataframe thead th {\n        text-align: right;\n    }\n</style>\n<table border=\"1\" class=\"dataframe\">\n  <thead>\n    <tr style=\"text-align: right;\">\n      <th></th>\n      <th>dir</th>\n      <th>rated_baud</th>\n      <th>packet_size</th>\n      <th>delay</th>\n      <th>valid</th>\n      <th>loss_percent</th>\n      <th>rx_bits</th>\n      <th>rx_baud</th>\n    </tr>\n  </thead>\n  <tbody>\n    <tr>\n      <th>0</th>\n      <td>BLE &gt;&gt; UART</td>\n      <td>9600</td>\n      <td>32</td>\n      <td>0.000</td>\n      <td>False</td>\n      <td>58.672726</td>\n      <td>5331</td>\n      <td>6664</td>\n    </tr>\n    <tr>\n      <th>1</th>\n      <td>UART &gt;&gt; BLE</td>\n      <td>9600</td>\n      <td>32</td>\n      <td>0.000</td>\n      <td>True</td>\n      <td>0.000000</td>\n      <td>7650</td>\n      <td>9562</td>\n    </tr>\n    <tr>\n      <th>2</th>\n      <td>BLE &gt;&gt; UART</td>\n      <td>9600</td>\n      <td>32</td>\n      <td>0.016</td>\n      <td>False</td>\n      <td>54.780074</td>\n      <td>5133</td>\n      <td>6416</td>\n    </tr>\n    <tr>\n      <th>3</th>\n      <td>UART &gt;&gt; BLE</td>\n      <td>9600</td>\n      <td>32</td>\n      <td>0.016</td>\n      <td>True</td>\n      <td>0.000000</td>\n      <td>7666</td>\n      <td>9583</td>\n    </tr>\n    <tr>\n      <th>4</th>\n      <td>BLE &gt;&gt; UART</td>\n      <td>9600</td>\n      <td>32</td>\n      <td>0.032</td>\n      <td>False</td>\n      <td>18.863071</td>\n      <td>5917</td>\n      <td>7396</td>\n    </tr>\n    <tr>\n      <th>5</th>\n      <td>UART &gt;&gt; BLE</td>\n      <td>9600</td>\n      <td>32</td>\n      <td>0.032</td>\n      <td>True</td>\n      <td>0.000000</td>\n      <td>7669</td>\n      <td>9586</td>\n    </tr>\n    <tr>\n      <th>6</th>\n      <td>BLE &gt;&gt; UART</td>\n      <td>9600</td>\n      <td>32</td>\n      <td>0.064</td>\n      <td>False</td>\n      <td>0.025722</td>\n      <td>3996</td>\n      <td>4995</td>\n    </tr>\n    <tr>\n      <th>7</th>\n      <td>UART &gt;&gt; BLE</td>\n      <td>9600</td>\n      <td>32</td>\n      <td>0.064</td>\n      <td>True</td>\n      <td>0.000000</td>\n      <td>3985</td>\n      <td>4982</td>\n    </tr>\n    <tr>\n      <th>8</th>\n      <td>BLE &gt;&gt; UART</td>\n      <td>19200</td>\n      <td>32</td>\n      <td>0.000</td>\n      <td>False</td>\n      <td>36.697248</td>\n      <td>9434</td>\n      <td>11792</td>\n    </tr>\n    <tr>\n      <th>9</th>\n      <td>UART &gt;&gt; BLE</td>\n      <td>19200</td>\n      <td>32</td>\n      <td>0.000</td>\n      <td>False</td>\n      <td>18.391494</td>\n      <td>12373</td>\n      <td>15466</td>\n    </tr>\n    <tr>\n      <th>10</th>\n      <td>BLE &gt;&gt; UART</td>\n      <td>19200</td>\n      <td>32</td>\n      <td>0.016</td>\n      <td>False</td>\n      <td>23.921804</td>\n      <td>9409</td>\n      <td>11761</td>\n    </tr>\n    <tr>\n      <th>11</th>\n      <td>UART &gt;&gt; BLE</td>\n      <td>19200</td>\n      <td>32</td>\n      <td>0.016</td>\n      <td>False</td>\n      <td>18.897368</td>\n      <td>12271</td>\n      <td>15339</td>\n    </tr>\n    <tr>\n      <th>12</th>\n      <td>BLE &gt;&gt; UART</td>\n      <td>19200</td>\n      <td>32</td>\n      <td>0.032</td>\n      <td>False</td>\n      <td>0.042871</td>\n      <td>7968</td>\n      <td>9960</td>\n    </tr>\n    <tr>\n      <th>13</th>\n      <td>UART &gt;&gt; BLE</td>\n      <td>19200</td>\n      <td>32</td>\n      <td>0.032</td>\n      <td>True</td>\n      <td>0.000000</td>\n      <td>7960</td>\n      <td>9951</td>\n    </tr>\n    <tr>\n      <th>14</th>\n      <td>BLE &gt;&gt; UART</td>\n      <td>19200</td>\n      <td>32</td>\n      <td>0.064</td>\n      <td>False</td>\n      <td>0.051445</td>\n      <td>3997</td>\n      <td>4996</td>\n    </tr>\n    <tr>\n      <th>15</th>\n      <td>UART &gt;&gt; BLE</td>\n      <td>19200</td>\n      <td>32</td>\n      <td>0.064</td>\n      <td>True</td>\n      <td>0.000000</td>\n      <td>3983</td>\n      <td>4979</td>\n    </tr>\n    <tr>\n      <th>16</th>\n      <td>BLE &gt;&gt; UART</td>\n      <td>57600</td>\n      <td>32</td>\n      <td>0.000</td>\n      <td>True</td>\n      <td>0.000000</td>\n      <td>17032</td>\n      <td>21290</td>\n    </tr>\n    <tr>\n      <th>17</th>\n      <td>UART &gt;&gt; BLE</td>\n      <td>57600</td>\n      <td>32</td>\n      <td>0.000</td>\n      <td>False</td>\n      <td>70.410701</td>\n      <td>13084</td>\n      <td>16356</td>\n    </tr>\n    <tr>\n      <th>18</th>\n      <td>BLE &gt;&gt; UART</td>\n      <td>57600</td>\n      <td>32</td>\n      <td>0.016</td>\n      <td>False</td>\n      <td>0.240075</td>\n      <td>13623</td>\n      <td>17029</td>\n    </tr>\n    <tr>\n      <th>19</th>\n      <td>UART &gt;&gt; BLE</td>\n      <td>57600</td>\n      <td>32</td>\n      <td>0.016</td>\n      <td>False</td>\n      <td>13.444225</td>\n      <td>13601</td>\n      <td>17001</td>\n    </tr>\n    <tr>\n      <th>20</th>\n      <td>BLE &gt;&gt; UART</td>\n      <td>57600</td>\n      <td>32</td>\n      <td>0.032</td>\n      <td>False</td>\n      <td>0.205779</td>\n      <td>7960</td>\n      <td>9950</td>\n    </tr>\n    <tr>\n      <th>21</th>\n      <td>UART &gt;&gt; BLE</td>\n      <td>57600</td>\n      <td>32</td>\n      <td>0.032</td>\n      <td>True</td>\n      <td>0.000000</td>\n      <td>7957</td>\n      <td>9947</td>\n    </tr>\n    <tr>\n      <th>22</th>\n      <td>BLE &gt;&gt; UART</td>\n      <td>57600</td>\n      <td>32</td>\n      <td>0.064</td>\n      <td>False</td>\n      <td>0.162908</td>\n      <td>3987</td>\n      <td>4984</td>\n    </tr>\n    <tr>\n      <th>23</th>\n      <td>UART &gt;&gt; BLE</td>\n      <td>57600</td>\n      <td>32</td>\n      <td>0.064</td>\n      <td>True</td>\n      <td>0.000000</td>\n      <td>3989</td>\n      <td>4986</td>\n    </tr>\n    <tr>\n      <th>24</th>\n      <td>BLE &gt;&gt; UART</td>\n      <td>115200</td>\n      <td>32</td>\n      <td>0.000</td>\n      <td>False</td>\n      <td>0.514447</td>\n      <td>17059</td>\n      <td>21324</td>\n    </tr>\n    <tr>\n      <th>25</th>\n      <td>UART &gt;&gt; BLE</td>\n      <td>115200</td>\n      <td>32</td>\n      <td>0.000</td>\n      <td>False</td>\n      <td>84.900969</td>\n      <td>12430</td>\n      <td>15538</td>\n    </tr>\n    <tr>\n      <th>26</th>\n      <td>BLE &gt;&gt; UART</td>\n      <td>115200</td>\n      <td>32</td>\n      <td>0.016</td>\n      <td>False</td>\n      <td>0.274372</td>\n      <td>13625</td>\n      <td>17031</td>\n    </tr>\n    <tr>\n      <th>27</th>\n      <td>UART &gt;&gt; BLE</td>\n      <td>115200</td>\n      <td>32</td>\n      <td>0.016</td>\n      <td>False</td>\n      <td>31.681386</td>\n      <td>13546</td>\n      <td>16933</td>\n    </tr>\n    <tr>\n      <th>28</th>\n      <td>BLE &gt;&gt; UART</td>\n      <td>115200</td>\n      <td>32</td>\n      <td>0.032</td>\n      <td>True</td>\n      <td>0.000000</td>\n      <td>8151</td>\n      <td>10189</td>\n    </tr>\n    <tr>\n      <th>29</th>\n      <td>UART &gt;&gt; BLE</td>\n      <td>115200</td>\n      <td>32</td>\n      <td>0.032</td>\n      <td>True</td>\n      <td>0.000000</td>\n      <td>7956</td>\n      <td>9946</td>\n    </tr>\n    <tr>\n      <th>30</th>\n      <td>BLE &gt;&gt; UART</td>\n      <td>115200</td>\n      <td>32</td>\n      <td>0.064</td>\n      <td>False</td>\n      <td>0.274372</td>\n      <td>3983</td>\n      <td>4979</td>\n    </tr>\n    <tr>\n      <th>31</th>\n      <td>UART &gt;&gt; BLE</td>\n      <td>115200</td>\n      <td>32</td>\n      <td>0.064</td>\n      <td>True</td>\n      <td>0.000000</td>\n      <td>3983</td>\n      <td>4978</td>\n    </tr>\n    <tr>\n      <th>32</th>\n      <td>BLE &gt;&gt; UART</td>\n      <td>230400</td>\n      <td>32</td>\n      <td>0.000</td>\n      <td>True</td>\n      <td>0.000000</td>\n      <td>16144</td>\n      <td>20180</td>\n    </tr>\n    <tr>\n      <th>33</th>\n      <td>UART &gt;&gt; BLE</td>\n      <td>230400</td>\n      <td>32</td>\n      <td>0.000</td>\n      <td>False</td>\n      <td>92.034639</td>\n      <td>12067</td>\n      <td>15084</td>\n    </tr>\n    <tr>\n      <th>34</th>\n      <td>BLE &gt;&gt; UART</td>\n      <td>230400</td>\n      <td>32</td>\n      <td>0.016</td>\n      <td>False</td>\n      <td>0.274372</td>\n      <td>13628</td>\n      <td>17035</td>\n    </tr>\n    <tr>\n      <th>35</th>\n      <td>UART &gt;&gt; BLE</td>\n      <td>230400</td>\n      <td>32</td>\n      <td>0.016</td>\n      <td>False</td>\n      <td>14.267341</td>\n      <td>13457</td>\n      <td>16821</td>\n    </tr>\n    <tr>\n      <th>36</th>\n      <td>BLE &gt;&gt; UART</td>\n      <td>230400</td>\n      <td>32</td>\n      <td>0.032</td>\n      <td>False</td>\n      <td>0.274372</td>\n      <td>7955</td>\n      <td>9944</td>\n    </tr>\n    <tr>\n      <th>37</th>\n      <td>UART &gt;&gt; BLE</td>\n      <td>230400</td>\n      <td>32</td>\n      <td>0.032</td>\n      <td>True</td>\n      <td>0.000000</td>\n      <td>7958</td>\n      <td>9948</td>\n    </tr>\n    <tr>\n      <th>38</th>\n      <td>BLE &gt;&gt; UART</td>\n      <td>230400</td>\n      <td>32</td>\n      <td>0.064</td>\n      <td>False</td>\n      <td>0.274372</td>\n      <td>3983</td>\n      <td>4979</td>\n    </tr>\n    <tr>\n      <th>39</th>\n      <td>UART &gt;&gt; BLE</td>\n      <td>230400</td>\n      <td>32</td>\n      <td>0.064</td>\n      <td>True</td>\n      <td>0.000000</td>\n      <td>3982</td>\n      <td>4978</td>\n    </tr>\n  </tbody>\n</table>\n</div>"
     },
     "metadata": {},
     "execution_count": 3
    }
   ],
   "source": [
    "df = pd.read_csv('../results/log_bleak.csv')\n",
    "df"
   ]
  },
  {
   "cell_type": "code",
   "execution_count": 4,
   "metadata": {},
   "outputs": [],
   "source": [
    "ble = df[df.dir.str.startswith('BLE')]\n",
    "uart = df[df.dir.str.startswith('UART')]"
   ]
  },
  {
   "cell_type": "code",
   "execution_count": 5,
   "metadata": {},
   "outputs": [],
   "source": [
    "p = uart.pivot(index='rated_baud', columns='delay', values=['loss_percent', 'rx_baud'])"
   ]
  },
  {
   "cell_type": "code",
   "execution_count": 7,
   "metadata": {},
   "outputs": [
    {
     "output_type": "display_data",
     "data": {
      "application/vnd.plotly.v1+json": {
       "config": {
        "plotlyServerURL": "https://plot.ly"
       },
       "data": [
        {
         "name": "0.0 ms",
         "type": "scatter",
         "x": [
          9600,
          19200,
          57600,
          115200,
          230400
         ],
         "xaxis": "x",
         "y": [
          9562,
          15466,
          16356,
          15538,
          15084
         ],
         "yaxis": "y2"
        },
        {
         "name": "∞ b/s",
         "type": "bar",
         "x": [
          9600,
          19200,
          57600,
          115200,
          230400
         ],
         "y": [
          0,
          18.39149446969047,
          70.41070050587328,
          84.90096887593243,
          92.0346394581154
         ]
        },
        {
         "name": "16.0 ms",
         "type": "scatter",
         "x": [
          9600,
          19200,
          57600,
          115200,
          230400
         ],
         "xaxis": "x",
         "y": [
          9583,
          15339,
          17001,
          16933,
          16821
         ],
         "yaxis": "y2"
        },
        {
         "name": "20000.0 b/s",
         "type": "bar",
         "x": [
          9600,
          19200,
          57600,
          115200,
          230400
         ],
         "y": [
          0,
          18.897367744148163,
          13.444225327960211,
          31.681385578324612,
          14.267341164365943
         ]
        },
        {
         "name": "32.0 ms",
         "type": "scatter",
         "x": [
          9600,
          19200,
          57600,
          115200,
          230400
         ],
         "xaxis": "x",
         "y": [
          9586,
          9951,
          9947,
          9946,
          9948
         ],
         "yaxis": "y2"
        },
        {
         "name": "10000.0 b/s",
         "type": "bar",
         "x": [
          9600,
          19200,
          57600,
          115200,
          230400
         ],
         "y": [
          0,
          0,
          0,
          0,
          0
         ]
        },
        {
         "name": "64.0 ms",
         "type": "scatter",
         "x": [
          9600,
          19200,
          57600,
          115200,
          230400
         ],
         "xaxis": "x",
         "y": [
          4982,
          4979,
          4986,
          4978,
          4978
         ],
         "yaxis": "y2"
        },
        {
         "name": "5000.0 b/s",
         "type": "bar",
         "x": [
          9600,
          19200,
          57600,
          115200,
          230400
         ],
         "y": [
          0,
          0,
          0,
          0,
          0
         ]
        }
       ],
       "layout": {
        "annotations": [
         {}
        ],
        "template": {
         "data": {
          "bar": [
           {
            "error_x": {
             "color": "#f2f5fa"
            },
            "error_y": {
             "color": "#f2f5fa"
            },
            "marker": {
             "line": {
              "color": "rgb(17,17,17)",
              "width": 0.5
             }
            },
            "type": "bar"
           }
          ],
          "barpolar": [
           {
            "marker": {
             "line": {
              "color": "rgb(17,17,17)",
              "width": 0.5
             }
            },
            "type": "barpolar"
           }
          ],
          "carpet": [
           {
            "aaxis": {
             "endlinecolor": "#A2B1C6",
             "gridcolor": "#506784",
             "linecolor": "#506784",
             "minorgridcolor": "#506784",
             "startlinecolor": "#A2B1C6"
            },
            "baxis": {
             "endlinecolor": "#A2B1C6",
             "gridcolor": "#506784",
             "linecolor": "#506784",
             "minorgridcolor": "#506784",
             "startlinecolor": "#A2B1C6"
            },
            "type": "carpet"
           }
          ],
          "choropleth": [
           {
            "colorbar": {
             "outlinewidth": 0,
             "ticks": ""
            },
            "type": "choropleth"
           }
          ],
          "contour": [
           {
            "colorbar": {
             "outlinewidth": 0,
             "ticks": ""
            },
            "colorscale": [
             [
              0,
              "#0d0887"
             ],
             [
              0.1111111111111111,
              "#46039f"
             ],
             [
              0.2222222222222222,
              "#7201a8"
             ],
             [
              0.3333333333333333,
              "#9c179e"
             ],
             [
              0.4444444444444444,
              "#bd3786"
             ],
             [
              0.5555555555555556,
              "#d8576b"
             ],
             [
              0.6666666666666666,
              "#ed7953"
             ],
             [
              0.7777777777777778,
              "#fb9f3a"
             ],
             [
              0.8888888888888888,
              "#fdca26"
             ],
             [
              1,
              "#f0f921"
             ]
            ],
            "type": "contour"
           }
          ],
          "contourcarpet": [
           {
            "colorbar": {
             "outlinewidth": 0,
             "ticks": ""
            },
            "type": "contourcarpet"
           }
          ],
          "heatmap": [
           {
            "colorbar": {
             "outlinewidth": 0,
             "ticks": ""
            },
            "colorscale": [
             [
              0,
              "#0d0887"
             ],
             [
              0.1111111111111111,
              "#46039f"
             ],
             [
              0.2222222222222222,
              "#7201a8"
             ],
             [
              0.3333333333333333,
              "#9c179e"
             ],
             [
              0.4444444444444444,
              "#bd3786"
             ],
             [
              0.5555555555555556,
              "#d8576b"
             ],
             [
              0.6666666666666666,
              "#ed7953"
             ],
             [
              0.7777777777777778,
              "#fb9f3a"
             ],
             [
              0.8888888888888888,
              "#fdca26"
             ],
             [
              1,
              "#f0f921"
             ]
            ],
            "type": "heatmap"
           }
          ],
          "heatmapgl": [
           {
            "colorbar": {
             "outlinewidth": 0,
             "ticks": ""
            },
            "colorscale": [
             [
              0,
              "#0d0887"
             ],
             [
              0.1111111111111111,
              "#46039f"
             ],
             [
              0.2222222222222222,
              "#7201a8"
             ],
             [
              0.3333333333333333,
              "#9c179e"
             ],
             [
              0.4444444444444444,
              "#bd3786"
             ],
             [
              0.5555555555555556,
              "#d8576b"
             ],
             [
              0.6666666666666666,
              "#ed7953"
             ],
             [
              0.7777777777777778,
              "#fb9f3a"
             ],
             [
              0.8888888888888888,
              "#fdca26"
             ],
             [
              1,
              "#f0f921"
             ]
            ],
            "type": "heatmapgl"
           }
          ],
          "histogram": [
           {
            "marker": {
             "colorbar": {
              "outlinewidth": 0,
              "ticks": ""
             }
            },
            "type": "histogram"
           }
          ],
          "histogram2d": [
           {
            "colorbar": {
             "outlinewidth": 0,
             "ticks": ""
            },
            "colorscale": [
             [
              0,
              "#0d0887"
             ],
             [
              0.1111111111111111,
              "#46039f"
             ],
             [
              0.2222222222222222,
              "#7201a8"
             ],
             [
              0.3333333333333333,
              "#9c179e"
             ],
             [
              0.4444444444444444,
              "#bd3786"
             ],
             [
              0.5555555555555556,
              "#d8576b"
             ],
             [
              0.6666666666666666,
              "#ed7953"
             ],
             [
              0.7777777777777778,
              "#fb9f3a"
             ],
             [
              0.8888888888888888,
              "#fdca26"
             ],
             [
              1,
              "#f0f921"
             ]
            ],
            "type": "histogram2d"
           }
          ],
          "histogram2dcontour": [
           {
            "colorbar": {
             "outlinewidth": 0,
             "ticks": ""
            },
            "colorscale": [
             [
              0,
              "#0d0887"
             ],
             [
              0.1111111111111111,
              "#46039f"
             ],
             [
              0.2222222222222222,
              "#7201a8"
             ],
             [
              0.3333333333333333,
              "#9c179e"
             ],
             [
              0.4444444444444444,
              "#bd3786"
             ],
             [
              0.5555555555555556,
              "#d8576b"
             ],
             [
              0.6666666666666666,
              "#ed7953"
             ],
             [
              0.7777777777777778,
              "#fb9f3a"
             ],
             [
              0.8888888888888888,
              "#fdca26"
             ],
             [
              1,
              "#f0f921"
             ]
            ],
            "type": "histogram2dcontour"
           }
          ],
          "mesh3d": [
           {
            "colorbar": {
             "outlinewidth": 0,
             "ticks": ""
            },
            "type": "mesh3d"
           }
          ],
          "parcoords": [
           {
            "line": {
             "colorbar": {
              "outlinewidth": 0,
              "ticks": ""
             }
            },
            "type": "parcoords"
           }
          ],
          "pie": [
           {
            "automargin": true,
            "type": "pie"
           }
          ],
          "scatter": [
           {
            "marker": {
             "line": {
              "color": "#283442"
             }
            },
            "type": "scatter"
           }
          ],
          "scatter3d": [
           {
            "line": {
             "colorbar": {
              "outlinewidth": 0,
              "ticks": ""
             }
            },
            "marker": {
             "colorbar": {
              "outlinewidth": 0,
              "ticks": ""
             }
            },
            "type": "scatter3d"
           }
          ],
          "scattercarpet": [
           {
            "marker": {
             "colorbar": {
              "outlinewidth": 0,
              "ticks": ""
             }
            },
            "type": "scattercarpet"
           }
          ],
          "scattergeo": [
           {
            "marker": {
             "colorbar": {
              "outlinewidth": 0,
              "ticks": ""
             }
            },
            "type": "scattergeo"
           }
          ],
          "scattergl": [
           {
            "marker": {
             "line": {
              "color": "#283442"
             }
            },
            "type": "scattergl"
           }
          ],
          "scattermapbox": [
           {
            "marker": {
             "colorbar": {
              "outlinewidth": 0,
              "ticks": ""
             }
            },
            "type": "scattermapbox"
           }
          ],
          "scatterpolar": [
           {
            "marker": {
             "colorbar": {
              "outlinewidth": 0,
              "ticks": ""
             }
            },
            "type": "scatterpolar"
           }
          ],
          "scatterpolargl": [
           {
            "marker": {
             "colorbar": {
              "outlinewidth": 0,
              "ticks": ""
             }
            },
            "type": "scatterpolargl"
           }
          ],
          "scatterternary": [
           {
            "marker": {
             "colorbar": {
              "outlinewidth": 0,
              "ticks": ""
             }
            },
            "type": "scatterternary"
           }
          ],
          "surface": [
           {
            "colorbar": {
             "outlinewidth": 0,
             "ticks": ""
            },
            "colorscale": [
             [
              0,
              "#0d0887"
             ],
             [
              0.1111111111111111,
              "#46039f"
             ],
             [
              0.2222222222222222,
              "#7201a8"
             ],
             [
              0.3333333333333333,
              "#9c179e"
             ],
             [
              0.4444444444444444,
              "#bd3786"
             ],
             [
              0.5555555555555556,
              "#d8576b"
             ],
             [
              0.6666666666666666,
              "#ed7953"
             ],
             [
              0.7777777777777778,
              "#fb9f3a"
             ],
             [
              0.8888888888888888,
              "#fdca26"
             ],
             [
              1,
              "#f0f921"
             ]
            ],
            "type": "surface"
           }
          ],
          "table": [
           {
            "cells": {
             "fill": {
              "color": "#506784"
             },
             "line": {
              "color": "rgb(17,17,17)"
             }
            },
            "header": {
             "fill": {
              "color": "#2a3f5f"
             },
             "line": {
              "color": "rgb(17,17,17)"
             }
            },
            "type": "table"
           }
          ]
         },
         "layout": {
          "annotationdefaults": {
           "arrowcolor": "#f2f5fa",
           "arrowhead": 0,
           "arrowwidth": 1
          },
          "autotypenumbers": "strict",
          "coloraxis": {
           "colorbar": {
            "outlinewidth": 0,
            "ticks": ""
           }
          },
          "colorscale": {
           "diverging": [
            [
             0,
             "#8e0152"
            ],
            [
             0.1,
             "#c51b7d"
            ],
            [
             0.2,
             "#de77ae"
            ],
            [
             0.3,
             "#f1b6da"
            ],
            [
             0.4,
             "#fde0ef"
            ],
            [
             0.5,
             "#f7f7f7"
            ],
            [
             0.6,
             "#e6f5d0"
            ],
            [
             0.7,
             "#b8e186"
            ],
            [
             0.8,
             "#7fbc41"
            ],
            [
             0.9,
             "#4d9221"
            ],
            [
             1,
             "#276419"
            ]
           ],
           "sequential": [
            [
             0,
             "#0d0887"
            ],
            [
             0.1111111111111111,
             "#46039f"
            ],
            [
             0.2222222222222222,
             "#7201a8"
            ],
            [
             0.3333333333333333,
             "#9c179e"
            ],
            [
             0.4444444444444444,
             "#bd3786"
            ],
            [
             0.5555555555555556,
             "#d8576b"
            ],
            [
             0.6666666666666666,
             "#ed7953"
            ],
            [
             0.7777777777777778,
             "#fb9f3a"
            ],
            [
             0.8888888888888888,
             "#fdca26"
            ],
            [
             1,
             "#f0f921"
            ]
           ],
           "sequentialminus": [
            [
             0,
             "#0d0887"
            ],
            [
             0.1111111111111111,
             "#46039f"
            ],
            [
             0.2222222222222222,
             "#7201a8"
            ],
            [
             0.3333333333333333,
             "#9c179e"
            ],
            [
             0.4444444444444444,
             "#bd3786"
            ],
            [
             0.5555555555555556,
             "#d8576b"
            ],
            [
             0.6666666666666666,
             "#ed7953"
            ],
            [
             0.7777777777777778,
             "#fb9f3a"
            ],
            [
             0.8888888888888888,
             "#fdca26"
            ],
            [
             1,
             "#f0f921"
            ]
           ]
          },
          "colorway": [
           "#636efa",
           "#EF553B",
           "#00cc96",
           "#ab63fa",
           "#FFA15A",
           "#19d3f3",
           "#FF6692",
           "#B6E880",
           "#FF97FF",
           "#FECB52"
          ],
          "font": {
           "color": "#f2f5fa"
          },
          "geo": {
           "bgcolor": "rgb(17,17,17)",
           "lakecolor": "rgb(17,17,17)",
           "landcolor": "rgb(17,17,17)",
           "showlakes": true,
           "showland": true,
           "subunitcolor": "#506784"
          },
          "hoverlabel": {
           "align": "left"
          },
          "hovermode": "closest",
          "mapbox": {
           "style": "dark"
          },
          "paper_bgcolor": "rgb(17,17,17)",
          "plot_bgcolor": "rgb(17,17,17)",
          "polar": {
           "angularaxis": {
            "gridcolor": "#506784",
            "linecolor": "#506784",
            "ticks": ""
           },
           "bgcolor": "rgb(17,17,17)",
           "radialaxis": {
            "gridcolor": "#506784",
            "linecolor": "#506784",
            "ticks": ""
           }
          },
          "scene": {
           "xaxis": {
            "backgroundcolor": "rgb(17,17,17)",
            "gridcolor": "#506784",
            "gridwidth": 2,
            "linecolor": "#506784",
            "showbackground": true,
            "ticks": "",
            "zerolinecolor": "#C8D4E3"
           },
           "yaxis": {
            "backgroundcolor": "rgb(17,17,17)",
            "gridcolor": "#506784",
            "gridwidth": 2,
            "linecolor": "#506784",
            "showbackground": true,
            "ticks": "",
            "zerolinecolor": "#C8D4E3"
           },
           "zaxis": {
            "backgroundcolor": "rgb(17,17,17)",
            "gridcolor": "#506784",
            "gridwidth": 2,
            "linecolor": "#506784",
            "showbackground": true,
            "ticks": "",
            "zerolinecolor": "#C8D4E3"
           }
          },
          "shapedefaults": {
           "line": {
            "color": "#f2f5fa"
           }
          },
          "sliderdefaults": {
           "bgcolor": "#C8D4E3",
           "bordercolor": "rgb(17,17,17)",
           "borderwidth": 1,
           "tickwidth": 0
          },
          "ternary": {
           "aaxis": {
            "gridcolor": "#506784",
            "linecolor": "#506784",
            "ticks": ""
           },
           "baxis": {
            "gridcolor": "#506784",
            "linecolor": "#506784",
            "ticks": ""
           },
           "bgcolor": "rgb(17,17,17)",
           "caxis": {
            "gridcolor": "#506784",
            "linecolor": "#506784",
            "ticks": ""
           }
          },
          "title": {
           "x": 0.05
          },
          "updatemenudefaults": {
           "bgcolor": "#506784",
           "borderwidth": 0
          },
          "xaxis": {
           "automargin": true,
           "gridcolor": "#283442",
           "linecolor": "#506784",
           "ticks": "",
           "title": {
            "standoff": 15
           },
           "zerolinecolor": "#283442",
           "zerolinewidth": 2
          },
          "yaxis": {
           "automargin": true,
           "gridcolor": "#283442",
           "linecolor": "#506784",
           "ticks": "",
           "title": {
            "standoff": 15
           },
           "zerolinecolor": "#283442",
           "zerolinewidth": 2
          }
         }
        },
        "title": {
         "text": "BLE ➟ UART: max. bandwidth"
        },
        "width": 900,
        "xaxis": {
         "anchor": "y",
         "domain": [
          0,
          0.94
         ],
         "title": {
          "text": "baud rate"
         },
         "type": "category"
        },
        "yaxis": {
         "anchor": "x",
         "domain": [
          0,
          1
         ],
         "range": [
          100,
          0
         ],
         "ticksuffix": "%",
         "title": {
          "text": "packet loss"
         }
        },
        "yaxis2": {
         "anchor": "x",
         "overlaying": "y",
         "range": [
          0,
          20000
         ],
         "side": "right",
         "ticksuffix": "b/s",
         "title": {
          "text": "bandwidth"
         }
        }
       }
      }
     },
     "metadata": {}
    }
   ],
   "source": [
    "fig = make_subplots(specs=[[{\"secondary_y\": True}]])\n",
    "for s in p.loss_percent:\n",
    "    fig.add_scatter(x=p.index, y=p.rx_baud[s], name=f'{s//0.001} ms', secondary_y=True)\n",
    "    fig.add_bar(x=p.index, y=p.loss_percent[s], name=f'{1/s*32*10 if s > 0 else \"∞\"} b/s')\n",
    "fig.update_layout(title='BLE ➟ UART: max. bandwidth', template='plotly_dark', width=900)\n",
    "fig.update_xaxes(type='category', title='baud rate')\n",
    "fig.update_yaxes(ticksuffix='%', title='packet loss', range=[100,0], secondary_y=False)\n",
    "fig.update_yaxes(ticksuffix='b/s', title='bandwidth', range=[0, 20e3], secondary_y=True)\n",
    "fig.add_annotation()\n",
    "fig.show()"
   ]
  },
  {
   "cell_type": "code",
   "execution_count": 20,
   "metadata": {},
   "outputs": [
    {
     "output_type": "execute_result",
     "data": {
      "text/plain": [
       "MultiIndex([('loss_percent',   0.0),\n",
       "            ('loss_percent', 0.016),\n",
       "            ('loss_percent', 0.032),\n",
       "            ('loss_percent', 0.064),\n",
       "            (     'rx_baud',   0.0),\n",
       "            (     'rx_baud', 0.016),\n",
       "            (     'rx_baud', 0.032),\n",
       "            (     'rx_baud', 0.064)],\n",
       "           names=[None, 'delay'])"
      ]
     },
     "metadata": {},
     "execution_count": 20
    }
   ],
   "source": [
    "p.columns"
   ]
  },
  {
   "cell_type": "code",
   "execution_count": null,
   "metadata": {},
   "outputs": [],
   "source": []
  }
 ]
}