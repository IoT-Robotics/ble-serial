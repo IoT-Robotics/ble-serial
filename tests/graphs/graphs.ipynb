{
 "metadata": {
  "language_info": {
   "codemirror_mode": {
    "name": "ipython",
    "version": 3
   },
   "file_extension": ".py",
   "mimetype": "text/x-python",
   "name": "python",
   "nbconvert_exporter": "python",
   "pygments_lexer": "ipython3",
   "version": "3.9.3-final"
  },
  "orig_nbformat": 2,
  "kernelspec": {
   "name": "python393jvsc74a57bd0767d51c1340bd893661ea55ea3124f6de3c7a262a8b4abca0554b478b1e2ff90",
   "display_name": "Python 3.9.3 64-bit"
  }
 },
 "nbformat": 4,
 "nbformat_minor": 2,
 "cells": [
  {
   "cell_type": "code",
   "execution_count": null,
   "metadata": {},
   "outputs": [],
   "source": [
    "import pandas as pd\n",
    "import plotly.graph_objects as go\n",
    "from plotly.subplots import make_subplots\n",
    "import plotly.express as px"
   ]
  },
  {
   "cell_type": "code",
   "execution_count": null,
   "metadata": {},
   "outputs": [],
   "source": [
    "df = pd.read_csv('../results/log_bleak.csv')\n",
    "df"
   ]
  },
  {
   "cell_type": "code",
   "execution_count": null,
   "metadata": {},
   "outputs": [],
   "source": [
    "ble = df[df.dir.str.startswith('BLE')].reset_index()\n",
    "uart = df[df.dir.str.startswith('UART')].reset_index()"
   ]
  },
  {
   "cell_type": "code",
   "execution_count": null,
   "metadata": {},
   "outputs": [],
   "source": [
    "inp = uart\n",
    "p = uart.pivot(index='rated_baud', columns='delay', values=['loss_percent', 'rx_baud'])\n",
    "packet = inp.packet_size[0]"
   ]
  },
  {
   "cell_type": "code",
   "execution_count": null,
   "metadata": {},
   "outputs": [],
   "source": [
    "fig = make_subplots(specs=[[{\"secondary_y\": True}]])\n",
    "for s in p.loss_percent:\n",
    "    fig.add_scatter(x=p.index, y=p.rx_baud[s], name=f'{s//0.001} ms', secondary_y=True)\n",
    "    fig.add_bar(x=p.index, y=p.loss_percent[s], name=f'{1/s*packet*10 if s > 0 else \"∞\"} b/s')\n",
    "fig.update_layout(title='BLE ➟ UART: max. bandwidth', template='plotly_dark', \n",
    "    width=900, legend={'x': 1.1})\n",
    "fig.update_xaxes(type='category', title='baud rate')\n",
    "fig.update_yaxes(ticksuffix='%', title='packet loss', range=[100,0], secondary_y=False)\n",
    "fig.update_yaxes(ticksuffix='b/s', title='bandwidth', range=[0, 20e3], secondary_y=True)\n",
    "fig.add_annotation(text='[CC BY] blog.ja-ke.tech', showarrow=False,\n",
    "    xref='paper', yref='paper', x=1.28, y=-.25)\n",
    "fig.show()"
   ]
  },
  {
   "cell_type": "code",
   "execution_count": null,
   "metadata": {},
   "outputs": [],
   "source": [
    "fig.write_html('ble-uart.html', include_plotlyjs='static/js/plotly.min.js', full_html=False)"
   ]
  },
  {
   "cell_type": "code",
   "execution_count": null,
   "metadata": {},
   "outputs": [],
   "source": []
  }
 ]
}